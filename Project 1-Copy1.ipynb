{
 "cells": [
  {
   "cell_type": "code",
   "execution_count": null,
   "id": "fca71bd7",
   "metadata": {},
   "outputs": [],
   "source": [
    "# cursor.close() 하지 않으면 DBserver에 trunc가 불가능 "
   ]
  },
  {
   "cell_type": "code",
   "execution_count": 52,
   "id": "508c9a35",
   "metadata": {
    "scrolled": false
   },
   "outputs": [
    {
     "name": "stdout",
     "output_type": "stream",
     "text": [
      "새로운 DATA 입력\n"
     ]
    },
    {
     "data": {
      "application/vnd.jupyter.widget-view+json": {
       "model_id": "4ab4c1b64e1a4523b1ec4058984cbb5b",
       "version_major": 2,
       "version_minor": 0
      },
      "text/plain": [
       "Text(value='', description='Type:')"
      ]
     },
     "metadata": {},
     "output_type": "display_data"
    },
    {
     "data": {
      "application/vnd.jupyter.widget-view+json": {
       "model_id": "71944af440e24d24aca18c549871adee",
       "version_major": 2,
       "version_minor": 0
      },
      "text/plain": [
       "Text(value='', description='TPC:')"
      ]
     },
     "metadata": {},
     "output_type": "display_data"
    },
    {
     "data": {
      "application/vnd.jupyter.widget-view+json": {
       "model_id": "4f41908455c842959478560473772482",
       "version_major": 2,
       "version_minor": 0
      },
      "text/plain": [
       "Text(value='', description='SMC:')"
      ]
     },
     "metadata": {},
     "output_type": "display_data"
    },
    {
     "data": {
      "application/vnd.jupyter.widget-view+json": {
       "model_id": "4165b17179194e2f96ee130e69fd4a05",
       "version_major": 2,
       "version_minor": 0
      },
      "text/plain": [
       "Text(value='', description='KCC:')"
      ]
     },
     "metadata": {},
     "output_type": "display_data"
    },
    {
     "data": {
      "application/vnd.jupyter.widget-view+json": {
       "model_id": "90b9b6e40daa40aea5f4df59cefe7f6a",
       "version_major": 2,
       "version_minor": 0
      },
      "text/plain": [
       "Button(description='Insert', style=ButtonStyle())"
      ]
     },
     "metadata": {},
     "output_type": "display_data"
    },
    {
     "name": "stdout",
     "output_type": "stream",
     "text": [
      "DB 불러오기\n"
     ]
    },
    {
     "data": {
      "application/vnd.jupyter.widget-view+json": {
       "model_id": "854c2fb01d2b4c9fa23cc2501df2ee5e",
       "version_major": 2,
       "version_minor": 0
      },
      "text/plain": [
       "Button(description='Read Items Table', style=ButtonStyle())"
      ]
     },
     "metadata": {},
     "output_type": "display_data"
    },
    {
     "name": "stdout",
     "output_type": "stream",
     "text": [
      "DB DATA 수정하기\n",
      "미입력시 데이터 변경 없음\n"
     ]
    },
    {
     "data": {
      "application/vnd.jupyter.widget-view+json": {
       "model_id": "e19ab07e741e49ac92b2d6e17d5020a2",
       "version_major": 2,
       "version_minor": 0
      },
      "text/plain": [
       "Text(value='', description='Type:')"
      ]
     },
     "metadata": {},
     "output_type": "display_data"
    },
    {
     "data": {
      "application/vnd.jupyter.widget-view+json": {
       "model_id": "a913ca13c60f403fb3ff07dbf3656135",
       "version_major": 2,
       "version_minor": 0
      },
      "text/plain": [
       "Text(value='', description='New TPC:')"
      ]
     },
     "metadata": {},
     "output_type": "display_data"
    },
    {
     "data": {
      "application/vnd.jupyter.widget-view+json": {
       "model_id": "d3d0752d3f6f49fbbf04d09bbfd58bae",
       "version_major": 2,
       "version_minor": 0
      },
      "text/plain": [
       "Text(value='', description='New SMC:')"
      ]
     },
     "metadata": {},
     "output_type": "display_data"
    },
    {
     "data": {
      "application/vnd.jupyter.widget-view+json": {
       "model_id": "8e51f5cf5205460d8da05ae0e1919d38",
       "version_major": 2,
       "version_minor": 0
      },
      "text/plain": [
       "Text(value='', description='New KCC:')"
      ]
     },
     "metadata": {},
     "output_type": "display_data"
    },
    {
     "data": {
      "application/vnd.jupyter.widget-view+json": {
       "model_id": "616c43537f9a4217bad0ad01bdc5ef6a",
       "version_major": 2,
       "version_minor": 0
      },
      "text/plain": [
       "Button(description='Update', style=ButtonStyle())"
      ]
     },
     "metadata": {},
     "output_type": "display_data"
    },
    {
     "name": "stdout",
     "output_type": "stream",
     "text": [
      "DB DATA 삭제\n",
      "사용방법 : Type명을 입력하시면 해당 행이 지워집니다.\n"
     ]
    },
    {
     "data": {
      "application/vnd.jupyter.widget-view+json": {
       "model_id": "cf202396cf0e4b599da78529875836e0",
       "version_major": 2,
       "version_minor": 0
      },
      "text/plain": [
       "Text(value='', description='type :')"
      ]
     },
     "metadata": {},
     "output_type": "display_data"
    },
    {
     "data": {
      "application/vnd.jupyter.widget-view+json": {
       "model_id": "1ba55eff0d34459bab29e8fbdb7648b2",
       "version_major": 2,
       "version_minor": 0
      },
      "text/plain": [
       "Button(description='Delete', style=ButtonStyle())"
      ]
     },
     "metadata": {},
     "output_type": "display_data"
    },
    {
     "data": {
      "text/html": [
       "<div>\n",
       "<style scoped>\n",
       "    .dataframe tbody tr th:only-of-type {\n",
       "        vertical-align: middle;\n",
       "    }\n",
       "\n",
       "    .dataframe tbody tr th {\n",
       "        vertical-align: top;\n",
       "    }\n",
       "\n",
       "    .dataframe thead th {\n",
       "        text-align: right;\n",
       "    }\n",
       "</style>\n",
       "<table border=\"1\" class=\"dataframe\">\n",
       "  <thead>\n",
       "    <tr style=\"text-align: right;\">\n",
       "      <th></th>\n",
       "      <th>type</th>\n",
       "      <th>TPC</th>\n",
       "      <th>SMC</th>\n",
       "      <th>KCC</th>\n",
       "    </tr>\n",
       "  </thead>\n",
       "  <tbody>\n",
       "    <tr>\n",
       "      <th>0</th>\n",
       "      <td>solid</td>\n",
       "      <td>fff</td>\n",
       "      <td>bbb</td>\n",
       "      <td>ccc</td>\n",
       "    </tr>\n",
       "  </tbody>\n",
       "</table>\n",
       "</div>"
      ],
      "text/plain": [
       "    type  TPC  SMC  KCC\n",
       "0  solid  fff  bbb  ccc"
      ]
     },
     "metadata": {},
     "output_type": "display_data"
    }
   ],
   "source": [
    "import mysql.connector\n",
    "import pandas as pd\n",
    "import ipywidgets as widgets\n",
    "from IPython.display import display\n",
    "\n",
    "# explain : type_id == item_type / All columns except type_id are companies.\n",
    "\n",
    "# Connect to the database DB 에 연결\n",
    "conn = mysql.connector.connect(\n",
    "    host=\"localhost\",\n",
    "    user=\"username\",      # Mysql 아이디 (초기값 = root)\n",
    "    password=\"userpassword!?\",  # DB 초기 설정 비밀번호\n",
    "    database=\"mydatabase\"     # 생성 DB_name\n",
    ")\n",
    "cursor = conn.cursor()\n",
    "\n",
    "# new DATA Input\n",
    "def insert_item(type_id, TPC, SMC, KCC): \n",
    "    # Check if type_id is blank\n",
    "    if not type_id.strip():\n",
    "        print(\"Error: Primary key (type_id) cannot be blank.\") # pk == blank (primary key == 공란 X)\n",
    "        return\n",
    "    \n",
    "    # type_id를 제외한 나머지도 blank is ERROR\n",
    "    if not TPC.strip() or not SMC.strip() or not KCC.strip():\n",
    "        print(\"Error: Company names cannot be blank.\")\n",
    "        return\n",
    "    \n",
    "    sql = \"INSERT INTO items (type, TPC, SMC, KCC) VALUES (%s, %s, %s, %s)\"\n",
    "    val = (type_id, TPC, SMC, KCC)\n",
    "    cursor.execute(sql, val)\n",
    "    conn.commit()\n",
    "    print(cursor.rowcount, \"Input Collect\") \n",
    "\n",
    "# Function to read items\n",
    "def read_items():\n",
    "    cursor.execute(\"SELECT * FROM items\")\n",
    "    result = cursor.fetchall()\n",
    "    df = pd.DataFrame(result, columns=['type', 'TPC', 'SMC', 'KCC'])\n",
    "    display(df)\n",
    "\n",
    "# Function to update an item\n",
    "def update_item(type_id, new_TPC, new_SMC, new_KCC):\n",
    "    sql = \"UPDATE items SET TPC = %s, SMC = %s, KCC = %s WHERE type = %s\"\n",
    "    val = (new_TPC, new_SMC, new_KCC, type_id)\n",
    "    cursor.execute(sql, val)\n",
    "    conn.commit()\n",
    "    print(cursor.rowcount, \"record(s) affected\")\n",
    "\n",
    "# Function to delete an item\n",
    "def delete_item(type_id):\n",
    "    sql = \"DELETE FROM items WHERE type = %s\"\n",
    "    val = (type_id,)\n",
    "    cursor.execute(sql, val)\n",
    "    conn.commit()\n",
    "    print(cursor.rowcount, \"record(s) deleted\")\n",
    "\n",
    "print('새로운 DATA 입력')\n",
    "\n",
    "# Creating widgets for user input\n",
    "type_input = widgets.Text(description=\"Type:\")\n",
    "TPC_input = widgets.Text(description=\"TPC:\")\n",
    "SMC_input = widgets.Text(description=\"SMC:\")\n",
    "KCC_input = widgets.Text(description=\"KCC:\")\n",
    "insert_button = widgets.Button(description=\"Insert\")\n",
    "display(type_input, TPC_input, SMC_input, KCC_input, insert_button)\n",
    "\n",
    "# Function to handle insert button click event\n",
    "def on_insert_button_clicked(b):\n",
    "    type_id = type_input.value\n",
    "    TPC = TPC_input.value\n",
    "    SMC = SMC_input.value\n",
    "    KCC = KCC_input.value\n",
    "    insert_item(type_id, TPC, SMC, KCC)\n",
    "    # Clear the input fields\n",
    "    type_input.value = \"\"\n",
    "    TPC_input.value = \"\"\n",
    "    SMC_input.value = \"\"\n",
    "    KCC_input.value = \"\"\n",
    "\n",
    "# Assign the button click event\n",
    "insert_button.on_click(on_insert_button_clicked)\n",
    "\n",
    "print('DB 불러오기')\n",
    "\n",
    "# Creating widgets for reading items\n",
    "read_button = widgets.Button(description=\"Read Items Table\")\n",
    "display(read_button)\n",
    "\n",
    "# Function to handle read button click event\n",
    "def on_read_button_clicked(b):\n",
    "    read_items()\n",
    "\n",
    "# Assign the button click event\n",
    "read_button.on_click(on_read_button_clicked)\n",
    "\n",
    "print('DB DATA 수정하기')\n",
    "print('미입력시 데이터 변경 없음')\n",
    "\n",
    "# Creating widgets for updating an item\n",
    "type_update_input = widgets.Text(description=\"Type:\")\n",
    "new_TPC_input = widgets.Text(description=\"New TPC:\")\n",
    "new_SMC_input = widgets.Text(description=\"New SMC:\")\n",
    "new_KCC_input = widgets.Text(description=\"New KCC:\")\n",
    "update_button = widgets.Button(description=\"Update\")\n",
    "display(type_update_input, new_TPC_input, new_SMC_input, new_KCC_input, update_button)\n",
    "\n",
    "\n",
    "# Function to handle update button click event\n",
    "def on_update_button_clicked(b):\n",
    "    type_id = type_update_input.value\n",
    "    new_TPC = new_TPC_input.value\n",
    "    new_SMC = new_SMC_input.value\n",
    "    new_KCC = new_KCC_input.value\n",
    "    \n",
    "    # Fetch current data from the database\n",
    "    cursor.execute(\"SELECT TPC, SMC, KCC FROM items WHERE type = %s\", (type_id,))\n",
    "    result = cursor.fetchone()\n",
    "    current_TPC, current_SMC, current_KCC = result\n",
    "    \n",
    "    # Check if any of the update fields are blank\n",
    "    if not new_TPC.strip():\n",
    "        new_TPC = current_TPC\n",
    "    if not new_SMC.strip():\n",
    "        new_SMC = current_SMC\n",
    "    if not new_KCC.strip():\n",
    "        new_KCC = current_KCC\n",
    "    \n",
    "    # Update item with validated data\n",
    "    update_item(type_id, new_TPC, new_SMC, new_KCC)\n",
    "    \n",
    "    # Clear the input fields\n",
    "    type_update_input.value = \"\"\n",
    "    new_TPC_input.value = \"\"\n",
    "    new_SMC_input.value = \"\"\n",
    "    new_KCC_input.value = \"\"\n",
    "\n",
    "# Assign the button click event\n",
    "update_button.on_click(on_update_button_clicked)\n",
    "\n",
    "\n",
    "print('DB DATA 삭제')\n",
    "print('사용방법 : Type명을 입력하시면 해당 행이 지워집니다.')\n",
    "\n",
    "# Creating widgets for deleting an item\n",
    "type_delete_input = widgets.Text(description=\"type :\")\n",
    "delete_button = widgets.Button(description=\"Delete\")\n",
    "display(type_delete_input, delete_button)\n",
    "\n",
    "# Function to handle delete button click event\n",
    "def on_delete_button_clicked(b):\n",
    "    type_id = type_delete_input.value\n",
    "    delete_item(type_id)\n",
    "    # Clear the input field\n",
    "    type_delete_input.value = \"\"\n",
    "\n",
    "# Assign the button click event\n",
    "delete_button.on_click(on_delete_button_clicked)\n",
    "\n",
    "# Close the connection when done\n",
    "def close_connection():\n",
    "    cursor.close()\n",
    "    conn.close()\n"
   ]
  },
  {
   "cell_type": "code",
   "execution_count": 47,
   "id": "f53e7331",
   "metadata": {
    "scrolled": false
   },
   "outputs": [
    {
     "name": "stdout",
     "output_type": "stream",
     "text": [
      "대응 표본 찾기\n"
     ]
    },
    {
     "data": {
      "application/vnd.jupyter.widget-view+json": {
       "model_id": "6391cec94c8a42a6b84402f3eaf3029c",
       "version_major": 2,
       "version_minor": 0
      },
      "text/plain": [
       "Text(value='', description='회사명:')"
      ]
     },
     "metadata": {},
     "output_type": "display_data"
    },
    {
     "data": {
      "application/vnd.jupyter.widget-view+json": {
       "model_id": "95c1b6d26e884d1aa29242d557ffc76b",
       "version_major": 2,
       "version_minor": 0
      },
      "text/plain": [
       "Text(value='', description='품번:')"
      ]
     },
     "metadata": {},
     "output_type": "display_data"
    },
    {
     "data": {
      "application/vnd.jupyter.widget-view+json": {
       "model_id": "26a34a3d70704eda81f1739f9c235ceb",
       "version_major": 2,
       "version_minor": 0
      },
      "text/plain": [
       "Button(description='검색', style=ButtonStyle())"
      ]
     },
     "metadata": {},
     "output_type": "display_data"
    },
    {
     "data": {
      "application/vnd.jupyter.widget-view+json": {
       "model_id": "4f3b504a17764723b8a6828eb27ff5bc",
       "version_major": 2,
       "version_minor": 0
      },
      "text/plain": [
       "Output()"
      ]
     },
     "metadata": {},
     "output_type": "display_data"
    }
   ],
   "source": [
    "import mysql.connector\n",
    "import pandas as pd\n",
    "import ipywidgets as widgets\n",
    "from IPython.display import display\n",
    "print('대응 표본 찾기')\n",
    "# Connect to the database\n",
    "conn = mysql.connector.connect(\n",
    "    host=\"localhost\",\n",
    "    user=\"username\",      # Mysql 아이디 (초기값 = root)\n",
    "    password=\"userpassword!?\",  # DB 초기 설정 비밀번호\n",
    "    database=\"mydatabase\"     # 생성 DB_name\n",
    ")\n",
    "cursor = conn.cursor()\n",
    "\n",
    "# New widget for querying based on a specific column\n",
    "search_column_input = widgets.Text(description=\"회사명:\")\n",
    "search_value_input = widgets.Text(description=\"품번:\")\n",
    "search_button = widgets.Button(description=\"검색\")\n",
    "output_area = widgets.Output()\n",
    "\n",
    "display(search_column_input, search_value_input, search_button, output_area)\n",
    "\n",
    "# Function to handle search button click event\n",
    "def on_search_button_clicked(b):\n",
    "    search_column = search_column_input.value\n",
    "    search_value = search_value_input.value\n",
    "    query = f\"SELECT * FROM items WHERE {search_column} = %s\"\n",
    "    cursor.execute(query, (search_value,))\n",
    "    result = cursor.fetchall()\n",
    "\n",
    "    # Retrieve column names\n",
    "    column_names = [i[0] for i in cursor.description]\n",
    "\n",
    "    with output_area:\n",
    "        output_area.clear_output()\n",
    "        if result:\n",
    "            # Create DataFrame\n",
    "            df = pd.DataFrame(result, columns=column_names)\n",
    "            # Display DataFrame\n",
    "            display(df)\n",
    "        else:\n",
    "            print(f\"No records found with {search_column} =\", search_value)\n",
    "    # Clear the input fields\n",
    "    search_column_input.value = \"\"\n",
    "    search_value_input.value = \"\"\n",
    "\n",
    "# Assign the button click event\n",
    "search_button.on_click(on_search_button_clicked)\n",
    "\n",
    "# Close the connection when done\n",
    "def close_connection():\n",
    "    cursor.close()\n",
    "    conn.close()\n"
   ]
  },
  {
   "cell_type": "code",
   "execution_count": 54,
   "id": "c0de886b",
   "metadata": {},
   "outputs": [],
   "source": [
    "conn.close() # 실행 종료"
   ]
  },
  {
   "cell_type": "code",
   "execution_count": null,
   "id": "c4f28a1e",
   "metadata": {},
   "outputs": [],
   "source": []
  }
 ],
 "metadata": {
  "kernelspec": {
   "display_name": "Python 3 (ipykernel)",
   "language": "python",
   "name": "python3"
  },
  "language_info": {
   "codemirror_mode": {
    "name": "ipython",
    "version": 3
   },
   "file_extension": ".py",
   "mimetype": "text/x-python",
   "name": "python",
   "nbconvert_exporter": "python",
   "pygments_lexer": "ipython3",
   "version": "3.11.1"
  }
 },
 "nbformat": 4,
 "nbformat_minor": 5
}
